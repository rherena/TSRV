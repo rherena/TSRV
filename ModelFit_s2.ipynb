{
 "cells": [
  {
   "cell_type": "code",
   "execution_count": 1,
   "metadata": {},
   "outputs": [
    {
     "data": {
      "text/html": [
       "        <script type=\"text/javascript\">\n",
       "        window.PlotlyConfig = {MathJaxConfig: 'local'};\n",
       "        if (window.MathJax) {MathJax.Hub.Config({SVG: {font: \"STIX-Web\"}});}\n",
       "        if (typeof require !== 'undefined') {\n",
       "        require.undef(\"plotly\");\n",
       "        requirejs.config({\n",
       "            paths: {\n",
       "                'plotly': ['https://cdn.plot.ly/plotly-latest.min']\n",
       "            }\n",
       "        });\n",
       "        require(['plotly'], function(Plotly) {\n",
       "            window._Plotly = Plotly;\n",
       "        });\n",
       "        }\n",
       "        </script>\n",
       "        "
      ]
     },
     "metadata": {},
     "output_type": "display_data"
    }
   ],
   "source": [
    "from importlib import reload\n",
    "from sklearn.linear_model import LogisticRegression, LinearRegression\n",
    "from sklearn.metrics import r2_score\n",
    "from aFunctions import *\n",
    "init_notebook_mode(connected=True)\n",
    "sns.set_style(\"darkgrid\")\n",
    "sns.set(rc={'figure.figsize':(10,10)})\n",
    "sns.set_context(\"notebook\", font_scale=1.5, rc={\"lines.linewidth\": 2.5})"
   ]
  },
  {
   "cell_type": "code",
   "execution_count": 2,
   "metadata": {},
   "outputs": [],
   "source": [
    "for i in ['aCrossSection', 'rCrossSection']:\n",
    "    featimp = 'plots/FeatureImportance/'+i\n",
    "    if not os.path.exists(featimp):\n",
    "        print(i)\n",
    "        os.makedirs(featimp)"
   ]
  },
  {
   "cell_type": "markdown",
   "metadata": {},
   "source": [
    "# Read Data\n",
    "\n",
    "- In prior EDA notebook we created features, and wrote our data to CSV files\n",
    "- In this notebook we will model our data, and decide which features provide the most value\n"
   ]
  },
  {
   "cell_type": "code",
   "execution_count": 28,
   "metadata": {},
   "outputs": [
    {
     "data": {
      "text/plain": [
       "(32013, 72)"
      ]
     },
     "execution_count": 28,
     "metadata": {},
     "output_type": "execute_result"
    }
   ],
   "source": [
    "mdatar = pd.read_csv('data/mdata.csv', index_col = 0).sort_values(by=['period', 'ticker'])\n",
    "mdatar = mdatar[mdatar['ticker'] != 'TLT']\n",
    "mdatar.index = pd.to_datetime(mdatar.index)\n",
    "mdatar['period.1'] = pd.to_datetime(mdatar['period.1'])\n",
    "tick = 'rCrossSection'\n",
    "retwindow = 'RelrtnFv063'\n",
    "mdatar = mdatar.dropna()\n",
    "mdatar.shape"
   ]
  },
  {
   "cell_type": "code",
   "execution_count": 7,
   "metadata": {},
   "outputs": [],
   "source": [
    "with open('data/fnamesR.txt', 'r') as f:\n",
    "    rFeatures = [line.rstrip('\\n') for line in f]"
   ]
  },
  {
   "cell_type": "code",
   "execution_count": 4,
   "metadata": {},
   "outputs": [
    {
     "data": {
      "text/plain": [
       "Index(['clHv010', 'clHv021', 'clHv063', 'clHv126', 'clHv252', 'clRtnH010',\n",
       "       'clRtnH021', 'clRtnH063', 'clRtnH126', 'clRtnH252', 'relHv010',\n",
       "       'relHv021', 'relHv063', 'relHv126', 'relHv252', 'relRtnH010',\n",
       "       'relRtnH021', 'relRtnH063', 'relRtnH126', 'relRtnH252',\n",
       "       'TrendMASlope10', 'TrendMASlope50', 'TrendMASlope100',\n",
       "       'TrendMASlope200', 'MeanRevRSI14d', 'TrendRSIs14d', 'MeanRevRSI63d',\n",
       "       'TrendRSIs63d', 'TrendhBma', 'TrendlBma', 'TrendabsBma', 'aroon_up',\n",
       "       'aroon_down', 'aroon_diff', 'MACD_12_26', 'MACD_diff', 'MACD_sign',\n",
       "       'MACD_36_78', 'MACD_sign3x', 'MeanRevFF', 'MeanRevFFEWMA1',\n",
       "       'MeanRevFFEWMA2', 'MeanRevFFDiff', 'st6mRealized', 'Ret12m1m',\n",
       "       'Ret12m6m', 'Ret6m1m', 'Ret6m2w', 'Ret3m2w', 'st6mRealized-Rel',\n",
       "       'Ret12m1m-Rel', 'Ret12m6m-Rel', 'Ret6m1m-Rel', 'Ret6m2w-Rel',\n",
       "       'Ret3m2w-Rel', 'FIst6mRealized', 'FIRet12m1m', 'FIRet3m2w', 'FIFF',\n",
       "       'FIRSI14d', 'FIRSIs14d', 'FIRSI63d', 'FIRSIs63d', 'ticker', 'period.1',\n",
       "       'rCorr', 'forwardmmS', 'forwardstdS', 'relRtnF063', 'SiderelRtnF063',\n",
       "       'relRtn', 'clRtn'],\n",
       "      dtype='object')"
      ]
     },
     "execution_count": 4,
     "metadata": {},
     "output_type": "execute_result"
    }
   ],
   "source": [
    "mdatar.columns"
   ]
  },
  {
   "cell_type": "code",
   "execution_count": 6,
   "metadata": {},
   "outputs": [
    {
     "data": {
      "text/plain": [
       "Index(['ticker', 'period.1', 'forwardmmS', 'forwardstdS', 'relRtnF063',\n",
       "       'SiderelRtnF063', 'relRtn', 'clRtn'],\n",
       "      dtype='object')"
      ]
     },
     "execution_count": 6,
     "metadata": {},
     "output_type": "execute_result"
    }
   ],
   "source": [
    "mdatar.columns[mdatar.columns.isin(rFeatures) == False]"
   ]
  },
  {
   "cell_type": "code",
   "execution_count": 30,
   "metadata": {},
   "outputs": [
    {
     "data": {
      "text/html": [
       "<div>\n",
       "<style scoped>\n",
       "    .dataframe tbody tr th:only-of-type {\n",
       "        vertical-align: middle;\n",
       "    }\n",
       "\n",
       "    .dataframe tbody tr th {\n",
       "        vertical-align: top;\n",
       "    }\n",
       "\n",
       "    .dataframe thead th {\n",
       "        text-align: right;\n",
       "    }\n",
       "</style>\n",
       "<table border=\"1\" class=\"dataframe\">\n",
       "  <thead>\n",
       "    <tr style=\"text-align: right;\">\n",
       "      <th>ticker</th>\n",
       "      <th>XLB</th>\n",
       "      <th>XLE</th>\n",
       "      <th>XLF</th>\n",
       "      <th>XLI</th>\n",
       "      <th>XLK</th>\n",
       "      <th>XLP</th>\n",
       "      <th>XLU</th>\n",
       "      <th>XLV</th>\n",
       "      <th>XLY</th>\n",
       "      <th>CrossSection</th>\n",
       "    </tr>\n",
       "  </thead>\n",
       "  <tbody>\n",
       "    <tr>\n",
       "      <th>count</th>\n",
       "      <td>355700.00</td>\n",
       "      <td>355700.00</td>\n",
       "      <td>355700.00</td>\n",
       "      <td>355700.00</td>\n",
       "      <td>355700.00</td>\n",
       "      <td>355700.00</td>\n",
       "      <td>355700.00</td>\n",
       "      <td>355700.00</td>\n",
       "      <td>355700.00</td>\n",
       "      <td>3201300.00</td>\n",
       "    </tr>\n",
       "    <tr>\n",
       "      <th>mean</th>\n",
       "      <td>-0.08</td>\n",
       "      <td>-0.98</td>\n",
       "      <td>-1.09</td>\n",
       "      <td>0.16</td>\n",
       "      <td>0.76</td>\n",
       "      <td>0.44</td>\n",
       "      <td>0.23</td>\n",
       "      <td>0.38</td>\n",
       "      <td>0.58</td>\n",
       "      <td>0.04</td>\n",
       "    </tr>\n",
       "    <tr>\n",
       "      <th>std</th>\n",
       "      <td>4.64</td>\n",
       "      <td>7.06</td>\n",
       "      <td>6.75</td>\n",
       "      <td>3.20</td>\n",
       "      <td>3.43</td>\n",
       "      <td>5.03</td>\n",
       "      <td>6.70</td>\n",
       "      <td>4.83</td>\n",
       "      <td>3.37</td>\n",
       "      <td>5.24</td>\n",
       "    </tr>\n",
       "    <tr>\n",
       "      <th>min</th>\n",
       "      <td>-19.75</td>\n",
       "      <td>-28.86</td>\n",
       "      <td>-38.72</td>\n",
       "      <td>-12.91</td>\n",
       "      <td>-10.47</td>\n",
       "      <td>-12.76</td>\n",
       "      <td>-17.75</td>\n",
       "      <td>-17.34</td>\n",
       "      <td>-10.63</td>\n",
       "      <td>-38.72</td>\n",
       "    </tr>\n",
       "    <tr>\n",
       "      <th>25%</th>\n",
       "      <td>-2.51</td>\n",
       "      <td>-5.45</td>\n",
       "      <td>-3.82</td>\n",
       "      <td>-1.62</td>\n",
       "      <td>-1.18</td>\n",
       "      <td>-3.01</td>\n",
       "      <td>-4.47</td>\n",
       "      <td>-2.44</td>\n",
       "      <td>-1.59</td>\n",
       "      <td>-2.73</td>\n",
       "    </tr>\n",
       "    <tr>\n",
       "      <th>50%</th>\n",
       "      <td>-0.22</td>\n",
       "      <td>-1.11</td>\n",
       "      <td>-0.74</td>\n",
       "      <td>0.23</td>\n",
       "      <td>0.78</td>\n",
       "      <td>-0.25</td>\n",
       "      <td>-0.31</td>\n",
       "      <td>0.38</td>\n",
       "      <td>0.69</td>\n",
       "      <td>0.05</td>\n",
       "    </tr>\n",
       "    <tr>\n",
       "      <th>75%</th>\n",
       "      <td>2.51</td>\n",
       "      <td>3.59</td>\n",
       "      <td>2.00</td>\n",
       "      <td>2.27</td>\n",
       "      <td>2.72</td>\n",
       "      <td>3.24</td>\n",
       "      <td>4.46</td>\n",
       "      <td>3.14</td>\n",
       "      <td>2.75</td>\n",
       "      <td>2.81</td>\n",
       "    </tr>\n",
       "    <tr>\n",
       "      <th>max</th>\n",
       "      <td>18.83</td>\n",
       "      <td>25.36</td>\n",
       "      <td>45.79</td>\n",
       "      <td>12.32</td>\n",
       "      <td>15.56</td>\n",
       "      <td>31.58</td>\n",
       "      <td>25.40</td>\n",
       "      <td>21.37</td>\n",
       "      <td>14.49</td>\n",
       "      <td>45.79</td>\n",
       "    </tr>\n",
       "    <tr>\n",
       "      <th>AnnRet</th>\n",
       "      <td>-0.33</td>\n",
       "      <td>-3.88</td>\n",
       "      <td>-4.31</td>\n",
       "      <td>0.62</td>\n",
       "      <td>3.08</td>\n",
       "      <td>1.76</td>\n",
       "      <td>0.94</td>\n",
       "      <td>1.54</td>\n",
       "      <td>2.36</td>\n",
       "      <td>0.18</td>\n",
       "    </tr>\n",
       "    <tr>\n",
       "      <th>AnnVol</th>\n",
       "      <td>9.28</td>\n",
       "      <td>14.11</td>\n",
       "      <td>13.50</td>\n",
       "      <td>6.40</td>\n",
       "      <td>6.85</td>\n",
       "      <td>10.05</td>\n",
       "      <td>13.40</td>\n",
       "      <td>9.66</td>\n",
       "      <td>6.73</td>\n",
       "      <td>10.48</td>\n",
       "    </tr>\n",
       "    <tr>\n",
       "      <th>AnnSharpe</th>\n",
       "      <td>-3.61</td>\n",
       "      <td>-27.47</td>\n",
       "      <td>-31.90</td>\n",
       "      <td>9.76</td>\n",
       "      <td>44.95</td>\n",
       "      <td>17.54</td>\n",
       "      <td>7.01</td>\n",
       "      <td>15.97</td>\n",
       "      <td>35.03</td>\n",
       "      <td>1.68</td>\n",
       "    </tr>\n",
       "  </tbody>\n",
       "</table>\n",
       "</div>"
      ],
      "text/plain": [
       "ticker           XLB        XLE        XLF        XLI        XLK        XLP  \\\n",
       "count      355700.00  355700.00  355700.00  355700.00  355700.00  355700.00   \n",
       "mean           -0.08      -0.98      -1.09       0.16       0.76       0.44   \n",
       "std             4.64       7.06       6.75       3.20       3.43       5.03   \n",
       "min           -19.75     -28.86     -38.72     -12.91     -10.47     -12.76   \n",
       "25%            -2.51      -5.45      -3.82      -1.62      -1.18      -3.01   \n",
       "50%            -0.22      -1.11      -0.74       0.23       0.78      -0.25   \n",
       "75%             2.51       3.59       2.00       2.27       2.72       3.24   \n",
       "max            18.83      25.36      45.79      12.32      15.56      31.58   \n",
       "AnnRet         -0.33      -3.88      -4.31       0.62       3.08       1.76   \n",
       "AnnVol          9.28      14.11      13.50       6.40       6.85      10.05   \n",
       "AnnSharpe      -3.61     -27.47     -31.90       9.76      44.95      17.54   \n",
       "\n",
       "ticker           XLU        XLV        XLY  CrossSection  \n",
       "count      355700.00  355700.00  355700.00    3201300.00  \n",
       "mean            0.23       0.38       0.58          0.04  \n",
       "std             6.70       4.83       3.37          5.24  \n",
       "min           -17.75     -17.34     -10.63        -38.72  \n",
       "25%            -4.47      -2.44      -1.59         -2.73  \n",
       "50%            -0.31       0.38       0.69          0.05  \n",
       "75%             4.46       3.14       2.75          2.81  \n",
       "max            25.40      21.37      14.49         45.79  \n",
       "AnnRet          0.94       1.54       2.36          0.18  \n",
       "AnnVol         13.40       9.66       6.73         10.48  \n",
       "AnnSharpe       7.01      15.97      35.03          1.68  "
      ]
     },
     "execution_count": 30,
     "metadata": {},
     "output_type": "execute_result"
    }
   ],
   "source": [
    "bTestRetWindow = 'relRtnF063'\n",
    "Y_r = mdatar[[bTestRetWindow, 'ticker']]\n",
    "Y_r[bTestRetWindow] = np.exp(mdatar[bTestRetWindow]) - 1\n",
    "Y_r = Y_r.reset_index()\n",
    "Sharpe_S = Y_r.pivot(index='period', columns='ticker').describe()[bTestRetWindow]\n",
    "Sharpe_S['CrossSection'] = Y_r.describe()\n",
    "Sharpe_S.loc['AnnRet'] = ((Sharpe_S.loc['mean']+1)**(252/int(bTestRetWindow[-3:]))-1)\n",
    "Sharpe_S.loc['AnnVol'] = (Sharpe_S.loc['std']*np.sqrt(252/int(bTestRetWindow[-3:])))\n",
    "Sharpe_S.loc['AnnSharpe'] = Sharpe_S.loc['AnnRet']/Sharpe_S.loc['AnnVol']\n",
    "(Sharpe_S*100).round(2)"
   ]
  },
  {
   "cell_type": "markdown",
   "metadata": {},
   "source": [
    "# Relative Returns\n",
    "\n",
    "- Based on our process for Absolute Returns we will mimic our modeling of Relative to SPY returns \n",
    "- We will train a large model as before and reduce features using our importance measures\n",
    "- Once our side model is trained, we can use shap package as before to understand model forecasts\n",
    "- Sizing model can also be trained, and additional features used for size model\n",
    "- An additional thing we did here, was to unscale our data, & compare scaled/unscaled top 20% importance sets\n",
    "- Where"
   ]
  },
  {
   "cell_type": "code",
   "execution_count": 31,
   "metadata": {},
   "outputs": [
    {
     "name": "stdout",
     "output_type": "stream",
     "text": [
      "RELATIVE RETURNS\n",
      "Dropped Records 567\n",
      "X Shape (32013, 64)\n",
      "2005-06-30 00:00:00\n"
     ]
    }
   ],
   "source": [
    "retwindow = 'relRtnF063'\n",
    "train_end = '2017-9-30'\n",
    "test_start = '2017-12-31'\n",
    "\n",
    "X = mdatar[rFeatures]\n",
    "Y = mdatar['Side'+retwindow]\n",
    "t1 = pd.Series(Y.index, index=Y.index, name = 't1')\n",
    "\n",
    "X_train = X.loc[mdatar.index < train_end]\n",
    "X_test = X.loc[mdatar.index > test_start]\n",
    "Y_train = Y.loc[mdatar.index < train_end]\n",
    "Y_test = Y.loc[mdatar.index > test_start]\n",
    "wa = (mdatar['forwardmmS'] - .5).abs()\n",
    "wts = wa*1/(wa.sum())\n",
    "wts = getTimeDecay(wts,clfLastW=.25)\n",
    "print('RELATIVE RETURNS')\n",
    "print('Dropped Records', mdatar.shape[0] - Y_train.shape[0] - Y_test.shape[0])\n",
    "print('X Shape', X.shape)\n",
    "print(X.index.min())"
   ]
  },
  {
   "cell_type": "code",
   "execution_count": 33,
   "metadata": {},
   "outputs": [],
   "source": [
    "sns.set_style(\"darkgrid\")\n",
    "sns.set(rc={'figure.figsize':(8,8)})\n",
    "sns.set_context(\"notebook\", font_scale=.85, rc={\"lines.linewidth\": 2.})\n",
    "sim = 1"
   ]
  },
  {
   "cell_type": "code",
   "execution_count": null,
   "metadata": {},
   "outputs": [
    {
     "data": {
      "image/png": "[encoded data removed]",
      "text/plain": [
       "<Figure size 720x720 with 1 Axes>"
      ]
     },
     "metadata": {},
     "output_type": "display_data"
    }
   ],
   "source": [
    "clf = RandomForestClassifier(n_estimators=1,\n",
    "                             criterion = 'gini', bootstrap=False, class_weight='balanced',\n",
    "                             max_depth=5, max_features=2, min_samples_split=.02)\n",
    "bc=BaggingClassifier(base_estimator=clf, n_estimators=200,max_samples=.5,max_features=1.0)\n",
    "bc.fit(X_train,Y_train, sample_weight=wts.loc[wts.index < train_end])\n",
    "\n",
    "\n",
    "OOB, OOS = bc.score(X_train,Y_train), bc.score(X_test,Y_test)\n",
    "MDI = featImpMDI(bc, X_train.columns)  \n",
    "plotFeatImportances('plots/FeatureImportance/'+tick+'/', \n",
    "                    MDI, OOB, OOS, 'MDI', tag=tick, simNum='MDI'+str(sim))\n",
    "\n",
    "MDA, OOS, OOB = featImpMDA(bc, X=X, y=Y, cv=4, \n",
    "                           sample_weight = wts, t1 = t1,  pctEmbargo = .01, scoring='accuracy')\n",
    "\n",
    "plotFeatImportances('plots/FeatureImportance/'+tick+'/', \n",
    "                    MDA,  OOB,  OOS,  'MDA', tag=tick,  simNum='MDA'+str(sim))\n",
    "\n",
    "sim += 1"
   ]
  },
  {
   "cell_type": "code",
   "execution_count": null,
   "metadata": {},
   "outputs": [],
   "source": [
    "print('Calculating SFI ....')\n",
    "clf = RandomForestClassifier(n_estimators=1,\n",
    "                             criterion = 'gini', bootstrap=False, class_weight='balanced',\n",
    "                             max_depth=5, max_features=1, min_samples_split=.02)\n",
    "bc=BaggingClassifier(base_estimator=clf, n_estimators=200,max_samples=.5,max_features=1.0)\n",
    "bc.fit(X_train,Y_train, sample_weight=wts.loc[wts.index < train_end])\n",
    "SFI = ImpSFI(featNames = X.columns.values, clf = bc, trnsX=X,  Y=Y, wts = wts,  \n",
    "             scoring = 'accuracy', t1 = t1)\n",
    "plotFeatImportances('plots/FeatureImportance/'+tick+'/',\n",
    "                    SFI,  OOB,  SFI['mean'].mean(), 'SFI',  tag=tick,  simNum='SFI'+str(sim))"
   ]
  },
  {
   "cell_type": "code",
   "execution_count": null,
   "metadata": {},
   "outputs": [],
   "source": [
    "MDI_Feats = list(MDI[MDI['mean']> MDI['mean'].quantile(.80)].sort_values(by=['mean'], ascending=False).index)\n",
    "SFI_Feats = list(SFI[SFI['mean']> SFI['mean'].quantile(.80)].index)\n",
    "MDA_Feats = list(MDA[MDA['mean']> MDA['mean'].quantile(.80)].sort_values(by=['mean'], ascending=False).index)\n",
    "selFeats = np.concatenate((MDI_Feats, MDA_Feats, SFI_Feats))\n",
    "selFeats = sorted(list(set(selFeats)))\n",
    "print(len(selFeats))\n",
    "selFeats"
   ]
  },
  {
   "cell_type": "markdown",
   "metadata": {},
   "source": [
    "# Feature Selection\n",
    "\n",
    "- Below we use a blend of top MDI, SFI, & MDA features\n",
    "- This is paired down from a starting set of roughly ~ 90 Features, Using our MDI/MDA/SFI on all features, we start with the top 20% of features for each, see above\n",
    "- We take the top 20% set of features as a starting point to re-run MDI / MDA importances\n",
    "- We also tune our model by altering: class wts, tree depth, min sample split, # of trees, max samples per tree\n",
    "- Each of these can be used to help reduce model overfitting & improve cross validated performance\n"
   ]
  },
  {
   "cell_type": "code",
   "execution_count": null,
   "metadata": {},
   "outputs": [],
   "source": [
    "bcparam = dict(classwtd = 'balanced', \n",
    "               mdepth = 5, \n",
    "               mfeats = 1,\n",
    "               minssplit = .02,\n",
    "               nest= 400, \n",
    "               maxsample=.7)\n",
    "\n",
    "sns.set_style(\"darkgrid\")\n",
    "sns.set(rc={'figure.figsize':(8,8)})\n",
    "sns.set_context(\"notebook\", font_scale=1.25, rc={\"lines.linewidth\": 2.})\n",
    "\n",
    "selFeats = ['FIst6mRealized', \n",
    "     'TrendMASlope100', 'TrendMASlope200',\n",
    "     'aroon_diff', \n",
    "     'MeanRevFFDiff', 'MeanRevRSI63d',\n",
    "     'RelRet3m2w', 'RelRet6m1m',\n",
    "     'RelccHv063'] \n",
    "len(selFeats)"
   ]
  },
  {
   "cell_type": "code",
   "execution_count": null,
   "metadata": {},
   "outputs": [],
   "source": [
    "train_end = '2017-03-31' #'2017-03-31'\n",
    "test_start = '2017-06-30' #'2017-06-30'\n",
    "retwindow = 'RelrtnFv063'\n",
    "\n",
    "X = mdatar[selFeats]\n",
    "Y = mdatar['Side'+retwindow]\n",
    "\n",
    "X_train = X.loc[Y.index < train_end]\n",
    "X_test = X.loc[Y.index > test_start]\n",
    "Y_train = Y.loc[Y.index < train_end]\n",
    "Y_test = Y.loc[Y.index > test_start]\n",
    "\n",
    "wa = mdatar['forwardstdS'].abs()\n",
    "wts = wa*1/(wa.sum())\n",
    "wts = getTimeDecay(wts,clfLastW=.25)\n",
    "\n",
    "print('ABSOLUTE RETURNS')\n",
    "print('Dropped Records', mdatar.shape[0] - Y_train.shape[0] - Y_test.shape[0])\n",
    "print('TEST Data: ',Y_test.shape[0], '| Train Data: ',Y_train.shape[0])\n",
    "\n",
    "clf = RandomForestClassifier(n_estimators=1,\n",
    "                             criterion = 'entropy', # gini entropy\n",
    "                             bootstrap=False,\n",
    "                             class_weight=bcparam['classwtd'],\n",
    "                             max_depth=bcparam['mdepth'],\n",
    "                             max_features=bcparam['mfeats'],\n",
    "                             min_samples_split=bcparam['minssplit'])\n",
    "\n",
    "bc=BaggingClassifier(base_estimator=clf, \n",
    "                     n_estimators=bcparam['nest'],\n",
    "                     max_samples=bcparam['maxsample'],\n",
    "                     max_features=1.0)\n",
    "\n",
    "print(bc)\n",
    "\n",
    "bc.fit(X_train,Y_train, sample_weight=wts.loc[wts.index < train_end])\n",
    "pred = bc.predict(X_test)\n",
    "proba = bc.predict_proba(X_test)\n",
    "confusion_m = confusion_matrix(Y_test, pred)\n",
    "\n",
    "print('Train Classification - Bagging')\n",
    "print(classification_report(Y_train, bc.predict(X_train)))\n",
    "print('Test Classification - Bagging')\n",
    "print(classification_report(Y_test, pred))\n",
    "print('Confusion Matrix - Test Data')\n",
    "print(confusion_m)\n",
    "\n",
    "OOB, OOS = bc.score(X_train,Y_train), bc.score(X_test,Y_test)\n",
    "MDI = featImpMDI(bc, X_train.columns)  \n",
    "plotFeatImportances('plots/FeatureImportance/'+tick+'/', \n",
    "                     MDI, OOB, OOS, 'MDI', tag=tick, simNum='MDI'+str(sim))\n",
    "\n",
    "MDA, OOS, OOB = featImpMDA(bc, X=X, y=Y, cv=4, \n",
    "                           sample_weight = wts, t1 = t1,  pctEmbargo = .02, scoring='accuracy')\n",
    "plotFeatImportances('plots/FeatureImportance/'+tick+'/', \n",
    "                    MDA,  OOB,  OOS,  'MDA', tag=tick,  simNum='MDA'+str(sim))\n",
    "\n",
    "sim += 1"
   ]
  },
  {
   "cell_type": "code",
   "execution_count": null,
   "metadata": {},
   "outputs": [],
   "source": [
    "X = mdatar[selFeats]\n",
    "Y = mdatar['Side'+retwindow]\n",
    "\n",
    "X_train = X.loc[Y.index < train_end]\n",
    "X_test = X.loc[Y.index > test_start]\n",
    "Y_train = Y.loc[Y.index < train_end]\n",
    "Y_test = Y.loc[Y.index > test_start]\n",
    "\n",
    "lr = LogisticRegression(C=1., solver='lbfgs', class_weight=bcparam['classwtd'])\n",
    "lr.fit(X_train,Y_train,sample_weight = wts.loc[wts.index < train_end])\n",
    "predlr = lr.predict(X_test)\n",
    "confusion_m = confusion_matrix(Y_test, predlr)\n",
    "print('Train Classification - Logistic Regression')\n",
    "print(classification_report(Y_train, lr.predict(X_train)))\n",
    "print('Test Classification - Logistic Regression')\n",
    "print(classification_report(Y_test, predlr))\n",
    "print('Confusion Matrix - Test Data')\n",
    "print(confusion_m) \n",
    "print('')\n",
    "\n",
    "MDA, OOS, OOB = featImpMDA(lr, X=X, y=Y, cv=4, \n",
    "                           sample_weight = wts, t1 = t1,  pctEmbargo = .02, scoring='accuracy')\n",
    "plotFeatImportances('plots/FeatureImportance/'+tick+'/', \n",
    "                    MDA,  OOB,  OOS,  'MDA', tag=tick,  simNum='MDA_LR'+str(sim))\n",
    "sim += 1"
   ]
  },
  {
   "cell_type": "code",
   "execution_count": null,
   "metadata": {},
   "outputs": [],
   "source": [
    "from sklearn.metrics import roc_auc_score\n",
    "from sklearn.metrics import roc_curve\n",
    "path = 'plots/FeatureImportance/'+tick+'/'\n",
    "bcname = bcparam['classwtd'][0:3]+'-'+str(bcparam['maxsample'])+'mrs-'+str(bcparam['mdepth'])+'md-'+str(bcparam['minssplit'])+'mss-'+str(bcparam['nest'])+'t'\n",
    "print(bcname)\n",
    "tree_roc_auc1 = roc_auc_score(Y_test, pred)\n",
    "logit_roc_auc1 = roc_auc_score(Y_test, lr.predict(X_test))\n",
    "tree_roc_auc = roc_auc_score(Y_test, proba[:,1])\n",
    "logit_roc_auc = roc_auc_score(Y_test, lr.predict_proba(X_test)[:,1])\n",
    "\n",
    "fpr_l, tpr_l, thresholds_l = roc_curve(Y_test, lr.predict_proba(X_test)[:,1])\n",
    "fpr_l1, tpr_l1, _ = roc_curve(Y_test, lr.predict(X_test))\n",
    "thres_df = pd.Series(list(thresholds_l), name = 'lr').describe().to_frame()\n",
    "\n",
    "fpr, tpr, thresholds = roc_curve(Y_test, proba[:,1])\n",
    "fpr1, tpr1, _ = roc_curve(Y_test, pred)\n",
    "thres_df[bcname] = pd.Series(list(thresholds)).describe()\n",
    "\n",
    "fpr_t, tpr_t, _ = roc_curve(Y_test, np.full(Y_test.shape,.60))\n",
    "\n",
    "plt.figure()\n",
    "plt.plot(fpr, tpr, label='Bagged Classifier*(area = %0.2f)' % tree_roc_auc)\n",
    "plt.plot(fpr_l, tpr_l, label='Logistic Regression(area = %0.2f)' % logit_roc_auc)\n",
    "plt.plot(fpr1, tpr1, label='Bagged Classifier*(area = %0.2f)' % tree_roc_auc1)\n",
    "plt.plot(fpr_l1, tpr_l1, label='Logistic Regression(area = %0.2f)' % logit_roc_auc1)\n",
    "plt.plot([0, 1], [0, 1],'r--')\n",
    "plt.xlim([0.0, 1.0])\n",
    "plt.ylim([0.0, 1.05])\n",
    "plt.xlabel('False Positive Rate')\n",
    "plt.ylabel('True Positive Rate')\n",
    "plt.title('ROC curve Test Set: '+test_start+' to Present')\n",
    "plt.legend(loc=\"lower right\")\n",
    "plt.savefig(path+'ROC_'+bcname+'.png')\n",
    "plt.show()\n",
    "thres_df"
   ]
  },
  {
   "cell_type": "code",
   "execution_count": null,
   "metadata": {},
   "outputs": [],
   "source": [
    "import xgboost\n",
    "from sklearn.tree import export_graphviz\n",
    "from sklearn.datasets import load_iris\n",
    "from IPython.display import SVG\n",
    "from graphviz import Source\n",
    "from IPython.display import display\n",
    "import shap\n",
    "shap.initjs()"
   ]
  },
  {
   "cell_type": "code",
   "execution_count": null,
   "metadata": {},
   "outputs": [],
   "source": [
    "bc"
   ]
  },
  {
   "cell_type": "code",
   "execution_count": null,
   "metadata": {},
   "outputs": [],
   "source": [
    "graph = Source(export_graphviz(bc.estimators_[1].estimators_[0], out_file=None, \n",
    "                                feature_names = selFeats,\n",
    "                                class_names = list(Y.unique().astype(str)),\n",
    "                                rounded = True, proportion = False, \n",
    "                                precision = 2, filled = True))\n",
    "display(SVG(graph.pipe(format='svg')))"
   ]
  },
  {
   "cell_type": "code",
   "execution_count": null,
   "metadata": {},
   "outputs": [],
   "source": [
    "plot_df = pd.DataFrame(lr.predict_proba(X_test), index=Y_test.index, columns=['-1', '+1'])\n",
    "plot_df['ticker'] = mdatar['ticker'].loc[mdatar.index > test_start]\n",
    "plot_df['date'] = Y_test.index\n",
    "plot_df = plot_df[plot_df['ticker'].isin(['SPY', 'QQQ', 'IWM', 'EEM', 'EFA'])] \n",
    "sns.set_style(\"darkgrid\")\n",
    "sns.set(rc={'figure.figsize':(8,8)})\n",
    "sns.set_context(\"notebook\", font_scale=1.15, rc={\"lines.linewidth\": 2.})\n",
    "sns.lineplot(x=\"date\", y=\"+1\", hue='ticker', data=plot_df)"
   ]
  },
  {
   "cell_type": "code",
   "execution_count": null,
   "metadata": {},
   "outputs": [],
   "source": [
    "plot_df = pd.DataFrame(bc.predict_proba(X_test), index=Y_test.index, columns=['-1', '+1'])\n",
    "plot_df['ticker'] = mdatar['ticker'].loc[mdatar.index > test_start]\n",
    "plot_df['date'] = Y_test.index\n",
    "plot_df = plot_df[plot_df['ticker'].isin(['SPY', 'QQQ', 'IWM', 'EEM', 'EFA'])] \n",
    "sns.set_style(\"darkgrid\")\n",
    "sns.set(rc={'figure.figsize':(8,8)})\n",
    "sns.set_context(\"notebook\", font_scale=1.15, rc={\"lines.linewidth\": 2.})\n",
    "sns.lineplot(x=\"date\", y=\"+1\", hue='ticker', data=plot_df)"
   ]
  },
  {
   "cell_type": "markdown",
   "metadata": {},
   "source": [
    "# SHAP plots & Feature Interaction / Effect\n",
    "- Below we fit an XGboost approximation to our above bagged tree model\n",
    "- This can be used in conjunction with the shap package* to plot shapely additive value plots\n",
    "- First we plot force plots for 12-2018 & 3-2019, showing feature contribution to forecast for those dates\n",
    "- Next we show a shap summary plot to show how the range of our values causes our forecast to change\n",
    "- finally we plot all our interaction plots, to show interaction for each feature across the whole training data set\n",
    "\n",
    "see https://github.com/slundberg/shap for more details"
   ]
  },
  {
   "cell_type": "code",
   "execution_count": null,
   "metadata": {},
   "outputs": [],
   "source": [
    "params = {\n",
    "  'silent':1,\n",
    "  'verbosity':1,\n",
    "  'colsample_bytree': 1.0,\n",
    "  'colsample_bylevel': 1/X_train.columns.shape[0],\n",
    "  'learning_rate': 2,\n",
    "  'max_depth': 5,\n",
    "  'num_parallel_tree': 500,\n",
    "  'objective': 'binary:logistic',\n",
    "  'subsample': 0.7,\n",
    "  'tree_method': 'auto',\n",
    "  'min_child_weight': 20\n",
    "}\n",
    "xg = xgboost.train(params, xgboost.DMatrix(X_train, label=np.where(Y_train == -1, 0, 1)), 1)\n",
    "\n",
    "y_pred = xg.predict(xgboost.DMatrix(X_test))\n",
    "y_pred = np.where(y_pred<.50,-1,1)\n",
    "confusion_m = confusion_matrix(Y_test, y_pred)\n",
    "\n",
    "print('Confusion matrix XGBOOST RF - Test Set' )\n",
    "print(confusion_m)\n",
    "print(classification_report(Y_test, y_pred))\n",
    "print('')"
   ]
  },
  {
   "cell_type": "code",
   "execution_count": null,
   "metadata": {},
   "outputs": [],
   "source": [
    "explainer = shap.TreeExplainer(xg)\n",
    "shap_values = explainer.shap_values(X)"
   ]
  },
  {
   "cell_type": "code",
   "execution_count": null,
   "metadata": {},
   "outputs": [],
   "source": [
    "_date = '12-28-2017'\n",
    "d_loc = int([s.strip(',') for s in str(X.index.get_loc(_date)).split()][1])-1\n",
    "_displ = X.iloc[d_loc].round(2).to_frame()\n",
    "_displ['SHAP_Val'] = shap_values[d_loc,:]\n",
    "shap.force_plot(explainer.expected_value, \n",
    "                shap_values[d_loc ,:], \n",
    "                X.iloc[d_loc].round(2), matplotlib=True)\n",
    "print(mdatar.iloc[d_loc]['ticker'])\n",
    "_displ"
   ]
  },
  {
   "cell_type": "code",
   "execution_count": null,
   "metadata": {},
   "outputs": [],
   "source": [
    "_date = '06-28-2018'\n",
    "d_loc = int([s.strip(',') for s in str(X.index.get_loc(_date)).split()][1])-1\n",
    "_displ = X.iloc[d_loc].round(2).to_frame()\n",
    "_displ['SHAP_Val'] = shap_values[d_loc,:]\n",
    "shap.force_plot(explainer.expected_value, \n",
    "                shap_values[d_loc ,:], \n",
    "                X.iloc[d_loc].round(2), matplotlib=True)\n",
    "print(mdatar.iloc[d_loc]['ticker'])\n",
    "_displ"
   ]
  },
  {
   "cell_type": "code",
   "execution_count": null,
   "metadata": {},
   "outputs": [],
   "source": [
    "_date = '12-31-2018'\n",
    "d_loc = int([s.strip(',') for s in str(X.index.get_loc(_date)).split()][1])-1\n",
    "_displ = X.iloc[d_loc].round(2).to_frame()\n",
    "_displ['SHAP_Val'] = shap_values[d_loc,:]\n",
    "shap.force_plot(explainer.expected_value, \n",
    "                shap_values[d_loc ,:], \n",
    "                X.iloc[d_loc].round(2), matplotlib=True)\n",
    "print(mdatar.iloc[d_loc]['ticker'])\n",
    "_displ"
   ]
  },
  {
   "cell_type": "code",
   "execution_count": null,
   "metadata": {},
   "outputs": [],
   "source": [
    "_date = '3-29-2019'\n",
    "d_loc = int([s.strip(',') for s in str(X.index.get_loc(_date)).split()][1])-1\n",
    "_displ = X.iloc[d_loc].round(2).to_frame()\n",
    "_displ['SHAP_Val'] = shap_values[d_loc,:]\n",
    "shap.force_plot(explainer.expected_value, \n",
    "                shap_values[d_loc ,:], \n",
    "                X.iloc[d_loc].round(2), matplotlib=True)\n",
    "print(mdatar.iloc[d_loc]['ticker'])\n",
    "_displ"
   ]
  },
  {
   "cell_type": "code",
   "execution_count": null,
   "metadata": {},
   "outputs": [],
   "source": []
  },
  {
   "cell_type": "code",
   "execution_count": null,
   "metadata": {},
   "outputs": [],
   "source": []
  },
  {
   "cell_type": "markdown",
   "metadata": {},
   "source": [
    "# Shap Plot Notes\n",
    "looking at the summary plot, here is a short summary of what the model thinks:\n",
    "- Higher Momo Indicators, at extremes are actually contrarian indicators.\n",
    "- IE Slope, RelReturn, Features High = Lower expected Return, & Vice Versa.\n",
    "- Aroon diff is simply the Aroon Up - Aroon Down indicator simply tracks 50days - Periods since 50 per high. IE high Aroon_diff = strong uptrend in the last ~ 50 days.\n",
    "- Fractional Diff Features vs it's 20D exponential MA is more of a value measure, where lower values = positive returns, and vice versa\n",
    "- high TLT 10d realized vs 6m Realized equated to high returns on balance\n",
    "- 3m Close-Close Realized seemed to center on really low/ high values to indicate negative returns, values in between seem to be negative indicators\n",
    "- 63d RSI seems to function similar to Fractional differentation\n",
    "\n",
    "# Dependence Plots\n",
    "- Nothing especially interesting, except for realized versus momo. IE high realized in the Ticker/SPX performance and Trend Strong = Buy, & at some point this relationship flips\n",
    "- This also appears to have some outlier values"
   ]
  },
  {
   "cell_type": "code",
   "execution_count": null,
   "metadata": {},
   "outputs": [],
   "source": [
    "shap.summary_plot(shap_values, X)"
   ]
  },
  {
   "cell_type": "code",
   "execution_count": null,
   "metadata": {},
   "outputs": [],
   "source": [
    "print(X.columns)\n",
    "shap.dependence_plot('FIst6mRealized', shap_values, X)"
   ]
  },
  {
   "cell_type": "code",
   "execution_count": null,
   "metadata": {},
   "outputs": [],
   "source": [
    "shap.dependence_plot('TrendMASlope100', shap_values, X)"
   ]
  },
  {
   "cell_type": "code",
   "execution_count": null,
   "metadata": {},
   "outputs": [],
   "source": [
    "shap.dependence_plot('TrendMASlope200', shap_values, X)"
   ]
  },
  {
   "cell_type": "code",
   "execution_count": null,
   "metadata": {},
   "outputs": [],
   "source": [
    "shap.dependence_plot('aroon_diff', shap_values, X)"
   ]
  },
  {
   "cell_type": "code",
   "execution_count": null,
   "metadata": {},
   "outputs": [],
   "source": [
    "shap.dependence_plot('MeanRevFFDiff', shap_values, X)"
   ]
  },
  {
   "cell_type": "code",
   "execution_count": null,
   "metadata": {},
   "outputs": [],
   "source": [
    "shap.dependence_plot('MeanRevRSI63d', shap_values, X)"
   ]
  },
  {
   "cell_type": "code",
   "execution_count": null,
   "metadata": {},
   "outputs": [],
   "source": [
    "shap.dependence_plot('RelRet3m2w', shap_values, X)"
   ]
  },
  {
   "cell_type": "code",
   "execution_count": null,
   "metadata": {},
   "outputs": [],
   "source": [
    "shap.dependence_plot('RelRet6m1m', shap_values, X)"
   ]
  },
  {
   "cell_type": "code",
   "execution_count": null,
   "metadata": {},
   "outputs": [],
   "source": [
    "shap.dependence_plot('RelccHv063', shap_values, X)"
   ]
  },
  {
   "cell_type": "code",
   "execution_count": null,
   "metadata": {},
   "outputs": [],
   "source": [
    "shap_interaction_values = explainer.shap_interaction_values(X)\n",
    "shap.summary_plot(shap_interaction_values, X)"
   ]
  },
  {
   "cell_type": "code",
   "execution_count": null,
   "metadata": {},
   "outputs": [],
   "source": [
    "shap.dependence_plot(\n",
    "    ('TrendMASlope200', \"RelccHv063\"),\n",
    "    shap_interaction_values, X,\n",
    ")"
   ]
  },
  {
   "cell_type": "code",
   "execution_count": null,
   "metadata": {},
   "outputs": [],
   "source": [
    "shap.dependence_plot(\n",
    "    ('TrendMASlope200', \"MeanRevFFDiff\"),\n",
    "    shap_interaction_values, X,\n",
    ")"
   ]
  },
  {
   "cell_type": "code",
   "execution_count": null,
   "metadata": {},
   "outputs": [],
   "source": [
    "shap.dependence_plot(\n",
    "    ('RelRet3m2w', \"RelRet6m1m\"),\n",
    "    shap_interaction_values, X,\n",
    ")"
   ]
  },
  {
   "cell_type": "code",
   "execution_count": null,
   "metadata": {},
   "outputs": [],
   "source": []
  },
  {
   "cell_type": "markdown",
   "metadata": {},
   "source": [
    "# Size Modeling\n",
    "\n",
    "- Below we model whether or not to take a prediction made by our bagging & logistic side/sign     models \n",
    "- We convert our predictions if they are equal to the correct sign to 1, else 0\n",
    "- To do so we us CV forecast to make sure all y forecasts are out of sample\n",
    "- Then we can use the same process to model which features help decide to take a +1/-1 sign bet\n",
    "- Importantly we find that more complex models add much more value on CV f1 scores\n",
    "- We have four configurations that could be tested for Sign / Size (CV Size F1 Score):\n",
    "    - Bagging Classifier (BC) & Bagging Classifier () - SIM \n",
    "    - Logistic Regression (LR) & Logistic Regression () - SIM \n"
   ]
  },
  {
   "cell_type": "code",
   "execution_count": null,
   "metadata": {},
   "outputs": [],
   "source": [
    "bcparam = dict(classwtd = 'balanced', \n",
    "               mdepth = 5, \n",
    "               mfeats = 2,\n",
    "               minssplit = .02,\n",
    "               nest= 400, \n",
    "               maxsample=.70)\n",
    "\n",
    "selFeats = ['FIst6mRealized', 'TrendMASlope100', 'TrendMASlope200', \n",
    "            'aroon_diff', 'MeanRevFFDiff', 'MeanRevRSI63d', \n",
    "            'RelRet3m2w', 'RelRet6m1m', 'RelccHv063']\n",
    "\n",
    "clf = RandomForestClassifier(n_estimators=1,\n",
    "                             criterion = 'entropy', # gini entropy\n",
    "                             bootstrap=False,\n",
    "                             class_weight=bcparam['classwtd'],\n",
    "                             max_depth=bcparam['mdepth'],\n",
    "                             max_features=bcparam['mfeats'],\n",
    "                             min_samples_split=bcparam['minssplit'])\n",
    "\n",
    "bc=BaggingClassifier(base_estimator=clf, \n",
    "                     n_estimators=bcparam['nest'],\n",
    "                     max_samples=bcparam['maxsample'],\n",
    "                     max_features=1.0)\n",
    "\n",
    "lr = LogisticRegression(C=1., solver='lbfgs', class_weight=bcparam['classwtd'])\n",
    "\n",
    "Yh_bc = cvForecast(clf=bc, X=mdatar[selFeats], y=mdatar['Side'+retwindow], \n",
    "                sample_weight=wts, t1=t1, cv=5, pctEmbargo=.02)\n",
    "\n",
    "Yh_lr = cvForecast(clf=lr, X=mdatar[selFeats], y=mdatar['Side'+retwindow], \n",
    "                   sample_weight=wts, t1=t1, cv=5, pctEmbargo=.02)\n",
    "\n",
    "print(bc)"
   ]
  },
  {
   "cell_type": "markdown",
   "metadata": {},
   "source": [
    "# Bagging Classifier For Side + Size\n",
    "- We use the same process as above for feature selection, a subset of top features from MDI/MDA/SFI methods\n",
    "- Sim num 33 is our initial run on all features, .55/.64 OOS f1 (we use f1 for size metric)\n",
    "- Our final Sim, 57/58 only achieved .65/.64 f1 scores for BC/LR size models\n",
    "- Also ROC curves appear to be particularly overfit for the bagging classifier"
   ]
  },
  {
   "cell_type": "code",
   "execution_count": null,
   "metadata": {
    "scrolled": false
   },
   "outputs": [],
   "source": [
    "selFeats_size =  ['FIst6mRealized', 'IVRV3Mhl', \n",
    "                  'MeanRevFFEWMA1', \n",
    "                  'RelccHv021',  'RelccHv252', \n",
    "                  'hlHv063_nN', 'reliv063d_SPY', 'reliv063d_SPY_nN']\n",
    "\n",
    "bcparam_s = dict(classwtd = 'balanced', #\n",
    "               mdepth = 4, \n",
    "               mfeats = 1,\n",
    "               minssplit = .05,\n",
    "               nest= 400, \n",
    "               maxsample=.50)\n",
    "\n",
    "sns.set_style(\"darkgrid\")\n",
    "sns.set(rc={'figure.figsize':(8,8)})\n",
    "sns.set_context(\"notebook\", font_scale=1.25, rc={\"lines.linewidth\": 2.})\n",
    "\n",
    "Y = mdatar['Side'+retwindow]\n",
    "Y = pd.Series(np.where(Y == Yh_bc, 1, 0),index = Y.index)\n",
    "X = mdatar[selFeats_size]\n",
    "\n",
    "X_train = X.loc[X.index < train_end]\n",
    "X_test = X.loc[X.index > test_start]\n",
    "Y_train = Y.loc[X.index < train_end]\n",
    "Y_test = Y.loc[X.index > test_start]\n",
    "\n",
    "wa = mdatar['forwardstdS'].abs()\n",
    "wts = wa*1/(wa.sum())\n",
    "wts = getTimeDecay(wts,clfLastW=.25)\n",
    "\n",
    "print('ABSOLUTE RETURNS - SIZE')\n",
    "print('Dropped Records', mdatar.shape[0] - Y_train.shape[0] - Y_test.shape[0])\n",
    "print('TEST Data: ',Y_test.shape[0], '| Train Data: ',Y_train.shape[0])\n",
    "\n",
    "clfs = RandomForestClassifier(n_estimators=1,\n",
    "                             criterion = 'entropy', # gini entropy\n",
    "                             bootstrap=False,\n",
    "                             class_weight=bcparam_s['classwtd'],\n",
    "                             max_depth=bcparam_s['mdepth'],\n",
    "                             max_features=bcparam_s['mfeats'],\n",
    "                             min_samples_split=bcparam_s['minssplit'])\n",
    "\n",
    "bcs=BaggingClassifier(base_estimator=clfs, \n",
    "                     n_estimators=bcparam_s['nest'],\n",
    "                     max_samples=bcparam_s['maxsample'],\n",
    "                     max_features=1.0)\n",
    "\n",
    "bcs.fit(X_train,Y_train, sample_weight=wts.loc[wts.index < train_end])\n",
    "pred = bcs.predict(X_test)\n",
    "proba = bcs.predict_proba(X_test)\n",
    "confusion_m = confusion_matrix(Y_test, pred)\n",
    "\n",
    "print('Train Classification - Bagging')\n",
    "print(classification_report(Y_train, bcs.predict(X_train)))\n",
    "print('Test Classification - Bagging')\n",
    "print(classification_report(Y_test, pred))\n",
    "print('Confusion Matrix - Test Data')\n",
    "print(confusion_m)\n",
    "\n",
    "OOB, OOS = bcs.score(X_train,Y_train), bcs.score(X_test,Y_test)\n",
    "MDI = featImpMDI(bcs, X_train.columns)  \n",
    "plotFeatImportances('plots/FeatureImportance/'+tick+'/', \n",
    "                     MDI, OOB, OOS, 'MDI', tag=tick, simNum='MDI_size_bcbc'+str(sim))\n",
    "\n",
    "MDA, OOS, OOB = featImpMDA(bcs, X=X, y=Y, cv=4, \n",
    "                           sample_weight = wts, t1 = t1,  pctEmbargo = .02, scoring='f1')\n",
    "plotFeatImportances('plots/FeatureImportance/'+tick+'/', \n",
    "                    MDA,  OOB,  OOS,  'MDA', tag=tick,  simNum='MDA_size_bcbc'+str(sim))\n",
    "\n",
    "sim += 1"
   ]
  },
  {
   "cell_type": "code",
   "execution_count": null,
   "metadata": {
    "scrolled": true
   },
   "outputs": [],
   "source": [
    "print('Calculating SFI ....')\n",
    "clf = RandomForestClassifier(n_estimators=1,\n",
    "                             criterion = 'gini', bootstrap=False, class_weight='balanced',\n",
    "                             max_depth=5, max_features=1, min_samples_split=.02)\n",
    "bc=BaggingClassifier(base_estimator=clf, n_estimators=200,max_samples=.5,max_features=1.0)\n",
    "bc.fit(X_train,Y_train, sample_weight=wts.loc[wts.index < train_end])\n",
    "SFI = ImpSFI(featNames = X.columns.values, clf = bc, trnsX=X,  Y=Y, wts = wts,  \n",
    "             scoring = 'accuracy', t1 = t1)\n",
    "plotFeatImportances('plots/FeatureImportance/'+tick+'/',\n",
    "                    SFI,  OOB,  SFI['mean'].mean(), 'SFI',  tag=tick,  simNum='SFI'+str(sim))"
   ]
  },
  {
   "cell_type": "code",
   "execution_count": null,
   "metadata": {},
   "outputs": [],
   "source": [
    "MDI_Feats = list(MDI[MDI['mean']> MDI['mean'].quantile(.90)].sort_values(by=['mean'], ascending=False).index)\n",
    "SFI_Feats = list(SFI[SFI['mean']> SFI['mean'].quantile(.90)].index)\n",
    "MDA_Feats = list(MDA[MDA['mean']> MDA['mean'].quantile(.90)].sort_values(by=['mean'], ascending=False).index)\n",
    "selFeats_size = np.concatenate((MDI_Feats, MDA_Feats, SFI_Feats))\n",
    "selFeats_size = sorted(list(set(selFeats_size)))\n",
    "print(len(selFeats_size))\n",
    "selFeats_size"
   ]
  },
  {
   "cell_type": "code",
   "execution_count": null,
   "metadata": {},
   "outputs": [],
   "source": [
    "X = mdatar[selFeats_size]\n",
    "Y = mdatar['Side'+retwindow]\n",
    "Y = pd.Series(np.where(Y == Yh_bc, 1, 0),index = Y.index)\n",
    "\n",
    "X_train = X.loc[Y.index < train_end]\n",
    "X_test = X.loc[Y.index > test_start]\n",
    "Y_train = Y.loc[Y.index < train_end]\n",
    "Y_test = Y.loc[Y.index > test_start]\n",
    "\n",
    "lrs = LogisticRegression(C=1., solver='lbfgs', class_weight=bcparam['classwtd'])\n",
    "lrs.fit(X_train,Y_train,sample_weight = wts.loc[wts.index < train_end])\n",
    "predlr = lrs.predict(X_test)\n",
    "confusion_m = confusion_matrix(Y_test, predlr)\n",
    "print('Train Classification - Logistic Regression')\n",
    "print(classification_report(Y_train, lrs.predict(X_train)))\n",
    "print('Test Classification - Logistic Regression')\n",
    "print(classification_report(Y_test, predlr))\n",
    "print('Confusion Matrix - Test Data')\n",
    "print(confusion_m) \n",
    "print('')\n",
    "\n",
    "MDA, OOS, OOB = featImpMDA(lr, X=X, y=Y, cv=4, \n",
    "                           sample_weight = wts, t1 = t1,  pctEmbargo = .02, scoring='f1')\n",
    "plotFeatImportances('plots/FeatureImportance/'+tick+'/', \n",
    "                    MDA,  OOB,  OOS,  'MDA', tag=tick,  simNum='MDA_size_lrlr'+str(sim))\n",
    "sim += 1"
   ]
  },
  {
   "cell_type": "code",
   "execution_count": null,
   "metadata": {},
   "outputs": [],
   "source": [
    "path = 'plots/FeatureImportance/'+tick+'/'\n",
    "bcname = bcparam_s['classwtd'][0:3]+'-'+str(bcparam_s['maxsample'])+'mrs-'+str(bcparam_s['mdepth'])+'md-'+str(bcparam_s['minssplit'])+'mss-'+str(bcparam_s['nest'])+'t'\n",
    "print(bcname)\n",
    "\n",
    "tree_roc_auc1 = roc_auc_score(Y_test, bcs.predict(X_test))\n",
    "tree_roc_auc = roc_auc_score(Y_test, np.around(bcs.predict_proba(X_test)[:,1],1))\n",
    "\n",
    "fpr, tpr, thresholds = roc_curve(Y_test, bcs.predict_proba(X_test)[:,1])\n",
    "fpr1, tpr1, _ = roc_curve(Y_test, bcs.predict(X_test))\n",
    "thres_df = pd.Series(list(thresholds), name = bcname).describe().to_frame()\n",
    "\n",
    "# Logistic Regression ROC \n",
    "\n",
    "logit_roc_auc = roc_auc_score(Y_test, lrs.predict_proba(X_test)[:,1])\n",
    "logit_roc_auc1 = roc_auc_score(Y_test, lrs.predict(X_test))\n",
    "\n",
    "fpr_l, tpr_l, thresholds_l = roc_curve(Y_test, lrs.predict_proba(X_test)[:,1])\n",
    "fpr_l1, tpr_l1, _ = roc_curve(Y_test, lrs.predict(X_test))\n",
    "thres_df['lr'] = pd.Series(list(thresholds_l)).describe()\n",
    "\n",
    "plt.figure()\n",
    "plt.plot(fpr, tpr, label='Bagged Classifier*(area = %0.2f)' % tree_roc_auc)\n",
    "plt.plot(fpr_l, tpr_l, label='Logistic Regression(area = %0.2f)' % logit_roc_auc)\n",
    "plt.plot(fpr1, tpr1, label='Bagged Classifier*(area = %0.2f)' % tree_roc_auc1)\n",
    "plt.plot(fpr_l1, tpr_l1, label='Logistic Regression(area = %0.2f)' % logit_roc_auc1)\n",
    "plt.plot([0, 1], [0, 1],'r--')\n",
    "plt.xlim([0.0, 1.0])\n",
    "plt.ylim([0.0, 1.05])\n",
    "plt.xlabel('False Positive Rate')\n",
    "plt.ylabel('True Positive Rate')\n",
    "plt.title('ROC curve Test Set - SIZE: '+test_start+' to Present')\n",
    "plt.legend(loc=\"lower right\")\n",
    "plt.savefig(path+'ROC_size'+bcname+'.png')\n",
    "plt.show()\n",
    "thres_df"
   ]
  },
  {
   "cell_type": "markdown",
   "metadata": {},
   "source": [
    "# BACKTESTING! \n",
    "- finally we will backtest our model using the Combinatorial Cross Validated & Purged backtest (Lopez De Prado 2018)\n",
    "- Given our lack of success in using sizing models on our last go around, we will only use side models in conjunction with LR\n",
    "- Each variation will use a Logistic Regression & Bagged Random Forest Model\n",
    "- Side only will just use Base (LR or RF), +1/-1 forecast only\n",
    "- tcost will be set on round trip switches, starting at 10BP to go from +1 to -1\n",
    "- Each ticker will have an even wt allocation to risk with absolute value leverage at 100%\n",
    "- As a refresher we can post our sharpe expectations below based on passive buy/hold long ticker/spy\n"
   ]
  },
  {
   "cell_type": "code",
   "execution_count": null,
   "metadata": {},
   "outputs": [],
   "source": [
    "bcparam = dict(classwtd = 'balanced', \n",
    "               mdepth = 5, \n",
    "               mfeats = 1,\n",
    "               minssplit = .02,\n",
    "               nest= 400, \n",
    "               maxsample=.7)\n",
    "\n",
    "clf = RandomForestClassifier(n_estimators=1,\n",
    "                             criterion = 'entropy', # gini entropy\n",
    "                             bootstrap=False,\n",
    "                             class_weight=bcparam['classwtd'],\n",
    "                             max_depth=bcparam['mdepth'],\n",
    "                             max_features=bcparam['mfeats'],\n",
    "                             min_samples_split=bcparam['minssplit'])\n",
    "\n",
    "bc=BaggingClassifier(base_estimator=clf, \n",
    "                     n_estimators=bcparam['nest'],\n",
    "                     max_samples=bcparam['maxsample'],\n",
    "                     max_features=1.0)\n",
    "\n",
    "print('Sign Model')\n",
    "print(bc)\n",
    "print('  ')"
   ]
  },
  {
   "cell_type": "code",
   "execution_count": null,
   "metadata": {},
   "outputs": [],
   "source": [
    "lr = LogisticRegression(C=1., solver='lbfgs', class_weight=bcparam['classwtd'])\n",
    "lrs = LogisticRegression(C=1., solver='lbfgs', class_weight=bcparam['classwtd'])\n",
    "print('Sign Model')\n",
    "print(lr)\n",
    "print('  ')\n",
    "print('Size Model')\n",
    "print(lrs)"
   ]
  },
  {
   "cell_type": "code",
   "execution_count": null,
   "metadata": {},
   "outputs": [],
   "source": [
    "selFeatsSign = ['FIst6mRealized', \n",
    "     'TrendMASlope100', 'TrendMASlope200',\n",
    "     'aroon_diff', \n",
    "     'MeanRevFFDiff', 'MeanRevRSI63d',\n",
    "     'RelRet3m2w', 'RelRet6m1m',\n",
    "     'RelccHv063'] \n",
    "\n",
    "selFeats_size =  ['FIst6mRealized', 'IVRV3Mhl', \n",
    "                  'MeanRevFFEWMA1', \n",
    "                  'RelccHv021',  'RelccHv252', \n",
    "                  'hlHv063_nN', 'reliv063d_SPY', 'reliv063d_SPY_nN']\n",
    "\n",
    "retwindow = 'RelrtnFv063'\n",
    "bTestRetWindow = 'RelrtnFv063' # rtnFv001 rtnFv063\n",
    "\n",
    "X = mdatar[selFeatsSign]\n",
    "X_s = mdatar[selFeats_size]\n",
    "Y = mdatar['Side'+retwindow]\n",
    "\n",
    "Y_r = mdatar[[bTestRetWindow, 'ticker']]\n",
    "Y_r[bTestRetWindow] = np.exp(mdatar[bTestRetWindow]*int(bTestRetWindow[-3:])) - 1\n",
    "Y_r = Y_r.reset_index()\n",
    "\n",
    "wa = mdatar['forwardstdS'].abs()\n",
    "wts = wa*1/(wa.sum())\n",
    "wts = getTimeDecay(wts,clfLastW=.25)\n",
    "\n",
    "print('X Size/Sign shape', X_s.shape,X.shape)\n",
    "print(Y_r.period.min())"
   ]
  },
  {
   "cell_type": "code",
   "execution_count": null,
   "metadata": {},
   "outputs": [],
   "source": [
    "Sharpe_S.round(3)"
   ]
  },
  {
   "cell_type": "code",
   "execution_count": null,
   "metadata": {},
   "outputs": [],
   "source": [
    "reload(aFunctions)\n",
    "from aFunctions import *\n",
    "kn = [2, 35]\n",
    "betSize = 1.0  #.016\n",
    "tcS = 'I'\n",
    "\n",
    "trials = mCombPurgedBacktest(mdatar[selFeatsSign], Y, Y_r, wts, bTestRetWindow,\n",
    "                                   lr, None, X_s,\n",
    "                                   k_n = kn, purg_i = .02 , t_cost = 5, test_sims = simnum,\n",
    "                                   leverage = betSize, tcostScore = tcS)\n",
    "trials['ModelType'] = 'Side-LR'\n",
    "trial_stats = trial_stats = trials\n",
    "\n",
    "trials = mCombPurgedBacktest(mdatar[selFeatsSign], Y, Y_r, wts, bTestRetWindow,\n",
    "                                   lr, lrs, X_s,\n",
    "                                   k_n = kn, purg_i = .02 , t_cost = 5, test_sims = simnum,\n",
    "                                   leverage = betSize, tcostScore = tcS)\n",
    "trials['ModelType'] = 'Side+Size-LR'\n",
    "trial_stats = trial_stats.append(trials)\n",
    "\n",
    "trials = mCombPurgedBacktest(mdatar[selFeatsSign], Y, Y_r, wts, bTestRetWindow,\n",
    "                                   bc, None, X_s,\n",
    "                                   k_n = kn, purg_i = .02 , t_cost = 5, test_sims = simnum,\n",
    "                                   leverage = betSize, tcostScore = tcS)\n",
    "trials['ModelType'] = 'Side-BC'\n",
    "trial_stats = trial_stats.append(trials)\n",
    "trial_stats['btest_window '] = bTestRetWindow\n",
    "simnum += 1"
   ]
  },
  {
   "cell_type": "code",
   "execution_count": null,
   "metadata": {},
   "outputs": [],
   "source": [
    "ModelType = 'Side-LR'\n",
    "\n",
    "ts = trial_stats[~trial_stats.isnull().any(axis=1)]\n",
    "ts = ts[ts['TestYears'] == \t.65]\n",
    "full_SR_OOS = ts[ts['ModelType'] == ModelType]['Sharpe-OOS'].mean()\n",
    "full_SR_IS = ts[ts['ModelType'] == ModelType]['Sharpe-IS'].mean()\n",
    "full_prob0 = np.sum(ts[ts['ModelType'] == ModelType]['Sharpe-OOS'] < 0)/ts[ts['ModelType'] == ModelType]['Sharpe-OOS'].shape[0]\n",
    "ols_m = sm.OLS(ts[ts['ModelType'] == ModelType]['Sharpe-OOS'], \n",
    "               sm.add_constant(ts[ts['ModelType'] == ModelType]['Sharpe-IS']))\n",
    "ols_r = ols_m.fit()\n",
    "ss_p = np.round(ols_r.params, 2)\n",
    "ss_adjr2 = np.round(ols_r.rsquared_adj,2)\n",
    "\n",
    "ax = sns.regplot(x='Sharpe-IS', \n",
    "                 y='Sharpe-OOS', \n",
    "                 data = ts[ts['ModelType'] == ModelType], \n",
    "                 scatter_kws={\"s\": 100},\n",
    "                 color = 'forestgreen')\n",
    "\n",
    "ax.text(.6,-1.2, \n",
    "        \"AdjR2 \"+str(ss_adjr2)+\" | IS SR \"+str(np.round(full_SR_IS, 2))+\" | OOS SR \"+str(np.round(full_SR_OOS, 2))+\" | Prob of SR OOS < 0 = \"+str(np.round(full_prob0, 2)), \n",
    "        horizontalalignment='left', \n",
    "        size=25,\n",
    "        weight='semibold',\n",
    "        color='black')\n",
    "\n",
    "ax.set_title(\" OOS Performance Degradation - \"+ModelType, weight='bold', size = 30)"
   ]
  },
  {
   "cell_type": "code",
   "execution_count": null,
   "metadata": {},
   "outputs": [],
   "source": [
    "ModelType = 'Side+Size-LR'\n",
    "\n",
    "ts = trial_stats[~trial_stats.isnull().any(axis=1)]\n",
    "ts = ts[ts['TestYears'] == \t.65]\n",
    "full_SR_OOS = ts[ts['ModelType'] == ModelType]['Sharpe-OOS'].mean()\n",
    "full_SR_IS = ts[ts['ModelType'] == ModelType]['Sharpe-IS'].mean()\n",
    "full_prob0 = np.sum(ts[ts['ModelType'] == ModelType]['Sharpe-OOS'] < 0)/ts[ts['ModelType'] == ModelType]['Sharpe-OOS'].shape[0]\n",
    "ols_m = sm.OLS(ts[ts['ModelType'] == ModelType]['Sharpe-OOS'], \n",
    "               sm.add_constant(ts[ts['ModelType'] == ModelType]['Sharpe-IS']))\n",
    "ols_r = ols_m.fit()\n",
    "ss_p = np.round(ols_r.params, 2)\n",
    "ss_adjr2 = np.round(ols_r.rsquared_adj,2)\n",
    "\n",
    "ax = sns.regplot(x='Sharpe-IS', \n",
    "                 y='Sharpe-OOS', \n",
    "                 data = ts[ts['ModelType'] == ModelType], \n",
    "                 scatter_kws={\"s\": 100},\n",
    "                 color = 'tomato')\n",
    "\n",
    "ax.text(.75,-1.4,  \n",
    "        \"AdjR2 \"+str(ss_adjr2)+\" | IS SR \"+str(np.round(full_SR_IS, 2))+\" | OOS SR \"+str(np.round(full_SR_OOS, 2))+\" | Prob of SR OOS < 0 = \"+str(np.round(full_prob0, 2)), \n",
    "        horizontalalignment='left', \n",
    "        size=25,\n",
    "        weight='semibold',\n",
    "        color='black')\n",
    "\n",
    "ax.set_title(\" OOS Performance Degradation - \"+ModelType, weight='bold', size = 30)"
   ]
  },
  {
   "cell_type": "code",
   "execution_count": null,
   "metadata": {},
   "outputs": [],
   "source": [
    "ModelType = 'Side-BC'\n",
    "\n",
    "ts = trial_stats[~trial_stats.isnull().any(axis=1)]\n",
    "ts = ts[ts['TestYears'] == \t.65]\n",
    "full_SR_OOS = ts[ts['ModelType'] == ModelType]['Sharpe-OOS'].mean()\n",
    "full_SR_IS = ts[ts['ModelType'] == ModelType]['Sharpe-IS'].mean()\n",
    "full_prob0 = np.sum(ts[ts['ModelType'] == ModelType]['Sharpe-OOS'] < 0)/ts[ts['ModelType'] == ModelType]['Sharpe-OOS'].shape[0]\n",
    "ols_m = sm.OLS(ts[ts['ModelType'] == ModelType]['Sharpe-OOS'], \n",
    "               sm.add_constant(ts[ts['ModelType'] == ModelType]['Sharpe-IS']))\n",
    "ols_r = ols_m.fit()\n",
    "ss_p = np.round(ols_r.params, 2)\n",
    "ss_adjr2 = np.round(ols_r.rsquared_adj,2)\n",
    "\n",
    "ax = sns.regplot(x='Sharpe-IS', \n",
    "                 y='Sharpe-OOS', \n",
    "                 data = ts[ts['ModelType'] == ModelType], \n",
    "                 scatter_kws={\"s\": 100},\n",
    "                 color = 'teal')\n",
    "\n",
    "ax.text(1.1,-1.4, \n",
    "        \"AdjR2 \"+str(ss_adjr2)+\" | IS SR \"+str(np.round(full_SR_IS, 2))+\" | OOS SR \"+str(np.round(full_SR_OOS, 2))+\" | Prob of SR OOS < 0 = \"+str(np.round(full_prob0, 2)), \n",
    "        horizontalalignment='left', \n",
    "        size=25,\n",
    "        weight='semibold',\n",
    "        color='black')\n",
    "\n",
    "ax.set_title(\" OOS Performance Degradation - \"+ModelType, weight='bold', size = 30)"
   ]
  },
  {
   "cell_type": "code",
   "execution_count": null,
   "metadata": {},
   "outputs": [],
   "source": [
    "print(trial_stats.columns)\n",
    "trial_stats.pivot(index='Trialn', columns='ModelType').describe()['Sharpe-OOS']"
   ]
  },
  {
   "cell_type": "code",
   "execution_count": null,
   "metadata": {},
   "outputs": [],
   "source": [
    "trial_stats.pivot(index='Trialn', columns='ModelType').describe()['Ann-Vol-OOS']"
   ]
  },
  {
   "cell_type": "code",
   "execution_count": null,
   "metadata": {},
   "outputs": [],
   "source": [
    "trial_stats.pivot(index='Trialn', columns='ModelType').describe()['Ann-Return-Net-OOS']"
   ]
  },
  {
   "cell_type": "markdown",
   "metadata": {},
   "source": [
    "# Standard Walk Forward\n",
    "   - Here we create a standard walk forward, with a warm up period ~ 10 years\n",
    "   - Fit using data from 2007 - 2014, then fit monthly look forward predictions\n",
    "   - We can use these predictions to create a simple long only performance\n",
    "   - IE when we are short a name, just add SPY. \n",
    "   - This can also be done with a Long / Short Performance Set, using Leverage"
   ]
  },
  {
   "cell_type": "code",
   "execution_count": null,
   "metadata": {},
   "outputs": [],
   "source": [
    "def wForwardBacktest(X, Y, Y_r, clf, dStart, dtype = 'Monthly', windows = ['rtnFv001', 'SPYrtnFv001']):\n",
    "    if dtype not in ['Monthly']:\n",
    "        raise Exception('Walk forward timing method')\n",
    "    if dtype == 'Monthly':\n",
    "        wf_dates = Y_r.groupby([Y_r['period.1'].dt.year, \n",
    "                                Y_r['period.1'].dt.month]).max()['period.1'] \n",
    "        wf_dates = wf_dates[wf_dates > dStart].values\n",
    "    pred=[]\n",
    "    for i in np.arange(0,wf_dates.shape[0]-1):\n",
    "        l1 = X[(X.index > wf_dates[i]) & (X.index <= wf_dates[i+1])].index\n",
    "        l2 = X[X.index < wf_dates[i]].index\n",
    "        \n",
    "        X_test = X[X.index.isin(l1)]\n",
    "        Y_test = Y[Y.index.isin(l1)]\n",
    "\n",
    "        X_train = X[X.index.isin(l2)]\n",
    "        Y_train = Y[Y.index.isin(l2)]\n",
    "        \n",
    "        wa = Y_r[Y_r.index.isin(l2)]['forwardstdS'].abs()\n",
    "        wts = wa*1/(wa.sum())\n",
    "        wts = getTimeDecay(wts,clfLastW=.25)\n",
    "        \n",
    "        clf.fit(X_train, Y_train, sample_weight=wts)\n",
    "        pred_ = clf.predict(X_test)\n",
    "        pred += list(pred_)\n",
    "    \n",
    "    Y_r = Y_r[Y_r.index > wf_dates[0]]\n",
    "    Y_r['Predictions'] = pred\n",
    "    \n",
    "    Y_r[windows[0]] = np.exp(Y_r[windows[0]]*int(bTestRetWindow[-3:]))\n",
    "    Y_r[windows[1]] = np.exp(Y_r[windows[1]]*int(bTestRetWindow[-3:]))\n",
    "    Y_r = Y_r.dropna()\n",
    "    Y_r = Y_r.pivot(index='period.1', columns='ticker')\n",
    "    \n",
    "    _p = Y_r['Predictions'].ewm(span=5).mean()\n",
    "    _p = pd.DataFrame(np.where(_p > 0, 1 , -1),_p.index,_p.columns)\n",
    "    _p = _p[_p.index.isin(wf_dates)]\n",
    "    _p.columns = pd.MultiIndex.from_product([[_p.columns.name], list(_p.columns.values)])\n",
    "    \n",
    "    for t in Y_r.columns.levels[1].values:\n",
    "        ret = []\n",
    "        for i in np.arange(1,wf_dates.shape[0]-1):\n",
    "            _ret = Y_r[windows[0]][t]\n",
    "            _ret = np.prod(_ret[(_ret.index > wf_dates[i]) & (_ret.index <= wf_dates[i+1])])\n",
    "            ret.append(_ret)\n",
    "        _p = _p.join(pd.DataFrame(ret, columns=pd.MultiIndex.from_product([[windows[0]], [t]]),\n",
    "                     index=wf_pred.index))\n",
    "        ret = []\n",
    "        for i in np.arange(1,wf_dates.shape[0]-1):\n",
    "            _ret = Y_r[windows[1]][t]\n",
    "            _ret = np.prod(_ret[(_ret.index > wf_dates[i]) & (_ret.index <= wf_dates[i+1])])\n",
    "            ret.append(_ret)\n",
    "\n",
    "        _p = _p.join(pd.DataFrame(ret, columns=pd.MultiIndex.from_product([[windows[1]], [t]]),\n",
    "                         index=wf_pred.index))\n",
    "        \n",
    "    pAlloc = 1/len(Y_r.columns.levels[1].values)\n",
    "    sRets = np.sum(np.where(_p['ticker'] == -1, \n",
    "                             _p['SPYrtnFv001'],\n",
    "                             _p['rtnFv001'])*pAlloc, axis=1)\n",
    "    #Equal Wtd\n",
    "    #SPY\n",
    "        \n",
    "    return _p, sRets"
   ]
  },
  {
   "cell_type": "code",
   "execution_count": null,
   "metadata": {},
   "outputs": [],
   "source": [
    "((wf_sRet-1)*100).round(2)"
   ]
  },
  {
   "cell_type": "code",
   "execution_count": null,
   "metadata": {},
   "outputs": [],
   "source": [
    "np.std(wf_sRet)*np.sqrt(12)"
   ]
  },
  {
   "cell_type": "code",
   "execution_count": null,
   "metadata": {},
   "outputs": [],
   "source": [
    "np.product(wf_sRet)**(12/len(wf_sRet))-1"
   ]
  },
  {
   "cell_type": "code",
   "execution_count": null,
   "metadata": {},
   "outputs": [],
   "source": []
  },
  {
   "cell_type": "code",
   "execution_count": null,
   "metadata": {
    "scrolled": true
   },
   "outputs": [],
   "source": [
    "mdata = pd.read_csv('mdata.csv', index_col = 0).sort_values(by=['period.1', 'ticker'])\n",
    "mdata.index = pd.to_datetime(mdata.index)\n",
    "mdata['period.1'] = pd.to_datetime(mdata['period.1'])\n",
    "mdata = mdata[mdata.ticker == 'SPY'][['period.1', 'rtnFv001']]\n",
    "mdata = mdata.rename(columns={\"rtnFv001\": \"SPYrtnFv001\"})\n",
    "\n",
    "X = mdatar[selFeatsSign]\n",
    "Y = mdatar['Side'+retwindow]\n",
    "bTestRetWindow = 'rtnFv001'\n",
    "Y_r = mdatar[[bTestRetWindow, 'ticker', 'forwardstdS', 'period.1']]\n",
    "Y_r = Y_r.merge(mdata, on=['period.1'], how='left')\n",
    "Y_r = Y_r.set_index([Y_r['period.1'].rename('period')])\n",
    "wf_pred, wf_sRet = wForwardBacktest(X, Y, Y_r, lr, '2014-12-28', dtype = 'Monthly', \n",
    "                                       windows = ['rtnFv001', 'SPYrtnFv001'])\n",
    "\n",
    "wf_pred['ticker'].head()"
   ]
  },
  {
   "cell_type": "markdown",
   "metadata": {},
   "source": [
    "# Recap Plot of Features"
   ]
  },
  {
   "cell_type": "code",
   "execution_count": null,
   "metadata": {},
   "outputs": [],
   "source": [
    "cmap = sns.cubehelix_palette(20, start=15, rot=-1.00, dark = .3, light=.7)\n",
    "sns.palplot(cmap)"
   ]
  },
  {
   "cell_type": "code",
   "execution_count": null,
   "metadata": {},
   "outputs": [],
   "source": [
    "sns.set_style(\"darkgrid\")\n",
    "sns.set(rc={'figure.figsize':(40,40)})\n",
    "sns.set_context(\"notebook\", font_scale=1.5, rc={\"lines.linewidth\": 2.5})\n",
    "ids = list(mdatar.columns[mdatar.columns.isin(rFeatures) == False])\n",
    "\n",
    "mmdatar = pd.melt(mdatar[(ids + selFeatsSign)], \n",
    "                      id_vars=ids, \n",
    "                      value_vars=selFeatsSign)\n",
    "\n",
    "g = sns.FacetGrid(mmdatar, col=\"variable\", hue=\"variable\",\n",
    "                  palette=cmap,\n",
    "                  height = 8, \n",
    "                  col_wrap = 3,\n",
    "                  sharex=False, \n",
    "                  sharey=False,\n",
    "                  margin_titles=True)\n",
    "g.map(sns.regplot,'value','forwardmmS')"
   ]
  },
  {
   "cell_type": "code",
   "execution_count": null,
   "metadata": {},
   "outputs": [],
   "source": [
    "path = 'Data/Backtest_Results/'\n",
    "trial_stats.to_csv(path+'full_test_RELATIVE_Final.csv')\n",
    "wf_pred.to_csv(path+'Walk_Forward_RELATIVE_Final.csv')"
   ]
  },
  {
   "cell_type": "code",
   "execution_count": null,
   "metadata": {},
   "outputs": [],
   "source": [
    "!jupyter nbconvert --to html ModelFit_s2.ipynb"
   ]
  }
 ],
 "metadata": {
  "kernelspec": {
   "display_name": "Python 3",
   "language": "python",
   "name": "python3"
  },
  "language_info": {
   "codemirror_mode": {
    "name": "ipython",
    "version": 3
   },
   "file_extension": ".py",
   "mimetype": "text/x-python",
   "name": "python",
   "nbconvert_exporter": "python",
   "pygments_lexer": "ipython3",
   "version": "3.7.3"
  }
 },
 "nbformat": 4,
 "nbformat_minor": 1
}
